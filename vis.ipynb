{
 "cells": [
  {
   "cell_type": "code",
   "execution_count": 1,
   "id": "fa4461da-f9af-4f00-b816-c786fcaf4698",
   "metadata": {},
   "outputs": [],
   "source": [
    "import numpy as np\n",
    "import pandas as pd\n",
    "import matplotlib.pyplot as plt\n",
    "import seaborn as sns"
   ]
  },
  {
   "cell_type": "code",
   "execution_count": 2,
   "id": "0475982e-b048-4333-b3a3-d0918ab45498",
   "metadata": {},
   "outputs": [
    {
     "data": {
      "text/html": [
       "<div>\n",
       "<style scoped>\n",
       "    .dataframe tbody tr th:only-of-type {\n",
       "        vertical-align: middle;\n",
       "    }\n",
       "\n",
       "    .dataframe tbody tr th {\n",
       "        vertical-align: top;\n",
       "    }\n",
       "\n",
       "    .dataframe thead th {\n",
       "        text-align: right;\n",
       "    }\n",
       "</style>\n",
       "<table border=\"1\" class=\"dataframe\">\n",
       "  <thead>\n",
       "    <tr style=\"text-align: right;\">\n",
       "      <th></th>\n",
       "      <th>step</th>\n",
       "      <th>high_card</th>\n",
       "      <th>pair</th>\n",
       "      <th>two_pair</th>\n",
       "      <th>three_of_a_kind</th>\n",
       "      <th>straight</th>\n",
       "      <th>flush</th>\n",
       "      <th>full_house</th>\n",
       "      <th>last_hand_score</th>\n",
       "      <th>final_round</th>\n",
       "    </tr>\n",
       "  </thead>\n",
       "  <tbody>\n",
       "    <tr>\n",
       "      <th>0</th>\n",
       "      <td>8</td>\n",
       "      <td>0</td>\n",
       "      <td>1</td>\n",
       "      <td>3</td>\n",
       "      <td>2</td>\n",
       "      <td>0</td>\n",
       "      <td>1</td>\n",
       "      <td>1</td>\n",
       "      <td>138</td>\n",
       "      <td>1</td>\n",
       "    </tr>\n",
       "    <tr>\n",
       "      <th>1</th>\n",
       "      <td>16</td>\n",
       "      <td>0</td>\n",
       "      <td>3</td>\n",
       "      <td>5</td>\n",
       "      <td>2</td>\n",
       "      <td>2</td>\n",
       "      <td>2</td>\n",
       "      <td>2</td>\n",
       "      <td>56</td>\n",
       "      <td>1</td>\n",
       "    </tr>\n",
       "    <tr>\n",
       "      <th>2</th>\n",
       "      <td>24</td>\n",
       "      <td>0</td>\n",
       "      <td>6</td>\n",
       "      <td>7</td>\n",
       "      <td>2</td>\n",
       "      <td>3</td>\n",
       "      <td>3</td>\n",
       "      <td>3</td>\n",
       "      <td>56</td>\n",
       "      <td>1</td>\n",
       "    </tr>\n",
       "    <tr>\n",
       "      <th>3</th>\n",
       "      <td>32</td>\n",
       "      <td>0</td>\n",
       "      <td>10</td>\n",
       "      <td>7</td>\n",
       "      <td>2</td>\n",
       "      <td>5</td>\n",
       "      <td>5</td>\n",
       "      <td>3</td>\n",
       "      <td>58</td>\n",
       "      <td>1</td>\n",
       "    </tr>\n",
       "    <tr>\n",
       "      <th>4</th>\n",
       "      <td>39</td>\n",
       "      <td>1</td>\n",
       "      <td>12</td>\n",
       "      <td>8</td>\n",
       "      <td>2</td>\n",
       "      <td>8</td>\n",
       "      <td>5</td>\n",
       "      <td>3</td>\n",
       "      <td>101</td>\n",
       "      <td>1</td>\n",
       "    </tr>\n",
       "    <tr>\n",
       "      <th>...</th>\n",
       "      <td>...</td>\n",
       "      <td>...</td>\n",
       "      <td>...</td>\n",
       "      <td>...</td>\n",
       "      <td>...</td>\n",
       "      <td>...</td>\n",
       "      <td>...</td>\n",
       "      <td>...</td>\n",
       "      <td>...</td>\n",
       "      <td>...</td>\n",
       "    </tr>\n",
       "    <tr>\n",
       "      <th>453</th>\n",
       "      <td>2835</td>\n",
       "      <td>194</td>\n",
       "      <td>906</td>\n",
       "      <td>963</td>\n",
       "      <td>155</td>\n",
       "      <td>291</td>\n",
       "      <td>170</td>\n",
       "      <td>156</td>\n",
       "      <td>106</td>\n",
       "      <td>1</td>\n",
       "    </tr>\n",
       "    <tr>\n",
       "      <th>454</th>\n",
       "      <td>2840</td>\n",
       "      <td>196</td>\n",
       "      <td>907</td>\n",
       "      <td>964</td>\n",
       "      <td>155</td>\n",
       "      <td>291</td>\n",
       "      <td>171</td>\n",
       "      <td>156</td>\n",
       "      <td>106</td>\n",
       "      <td>1</td>\n",
       "    </tr>\n",
       "    <tr>\n",
       "      <th>455</th>\n",
       "      <td>2846</td>\n",
       "      <td>196</td>\n",
       "      <td>907</td>\n",
       "      <td>965</td>\n",
       "      <td>155</td>\n",
       "      <td>295</td>\n",
       "      <td>172</td>\n",
       "      <td>156</td>\n",
       "      <td>107</td>\n",
       "      <td>1</td>\n",
       "    </tr>\n",
       "    <tr>\n",
       "      <th>456</th>\n",
       "      <td>2852</td>\n",
       "      <td>197</td>\n",
       "      <td>909</td>\n",
       "      <td>967</td>\n",
       "      <td>155</td>\n",
       "      <td>295</td>\n",
       "      <td>172</td>\n",
       "      <td>157</td>\n",
       "      <td>132</td>\n",
       "      <td>1</td>\n",
       "    </tr>\n",
       "    <tr>\n",
       "      <th>457</th>\n",
       "      <td>2857</td>\n",
       "      <td>197</td>\n",
       "      <td>911</td>\n",
       "      <td>970</td>\n",
       "      <td>155</td>\n",
       "      <td>295</td>\n",
       "      <td>172</td>\n",
       "      <td>157</td>\n",
       "      <td>127</td>\n",
       "      <td>1</td>\n",
       "    </tr>\n",
       "  </tbody>\n",
       "</table>\n",
       "<p>458 rows × 10 columns</p>\n",
       "</div>"
      ],
      "text/plain": [
       "     step  high_card  pair  two_pair  three_of_a_kind  straight  flush  \\\n",
       "0       8          0     1         3                2         0      1   \n",
       "1      16          0     3         5                2         2      2   \n",
       "2      24          0     6         7                2         3      3   \n",
       "3      32          0    10         7                2         5      5   \n",
       "4      39          1    12         8                2         8      5   \n",
       "..    ...        ...   ...       ...              ...       ...    ...   \n",
       "453  2835        194   906       963              155       291    170   \n",
       "454  2840        196   907       964              155       291    171   \n",
       "455  2846        196   907       965              155       295    172   \n",
       "456  2852        197   909       967              155       295    172   \n",
       "457  2857        197   911       970              155       295    172   \n",
       "\n",
       "     full_house  last_hand_score  final_round  \n",
       "0             1              138            1  \n",
       "1             2               56            1  \n",
       "2             3               56            1  \n",
       "3             3               58            1  \n",
       "4             3              101            1  \n",
       "..          ...              ...          ...  \n",
       "453         156              106            1  \n",
       "454         156              106            1  \n",
       "455         156              107            1  \n",
       "456         157              132            1  \n",
       "457         157              127            1  \n",
       "\n",
       "[458 rows x 10 columns]"
      ]
     },
     "execution_count": 2,
     "metadata": {},
     "output_type": "execute_result"
    }
   ],
   "source": [
    "metrics = pd.read_csv(\"train_metrics.csv\", index_col=0)\n",
    "metrics"
   ]
  },
  {
   "cell_type": "code",
   "execution_count": 3,
   "id": "2b7a9175-db13-40cf-a3ee-0212adbcf2f3",
   "metadata": {},
   "outputs": [
    {
     "data": {
      "image/png": "[encoded data removed]",
      "text/plain": [
       "<Figure size 640x480 with 1 Axes>"
      ]
     },
     "metadata": {},
     "output_type": "display_data"
    }
   ],
   "source": [
    "sns.histplot(metrics.final_round, discrete=True)\n",
    "plt.savefig(\"round_hist.png\")"
   ]
  },
  {
   "cell_type": "code",
   "execution_count": 4,
   "id": "11f48a00-9ca4-4b30-af37-4b56e5b731c9",
   "metadata": {},
   "outputs": [
    {
     "data": {
      "image/png": "[encoded data removed]",
      "text/plain": [
       "<Figure size 640x480 with 1 Axes>"
      ]
     },
     "metadata": {},
     "output_type": "display_data"
    }
   ],
   "source": [
    "sns.histplot(metrics.last_hand_score)\n",
    "plt.savefig(\"last_hand_score_hist.png\")"
   ]
  },
  {
   "cell_type": "code",
   "execution_count": 5,
   "id": "5c7e5916-a2e4-4d15-86ed-175940a5f00f",
   "metadata": {},
   "outputs": [
    {
     "data": {
      "image/png": "[encoded data removed]",
      "text/plain": [
       "<Figure size 640x480 with 1 Axes>"
      ]
     },
     "metadata": {},
     "output_type": "display_data"
    }
   ],
   "source": [
    "unpivoted = pd.melt(\n",
    "    metrics.iloc[-1:],\n",
    "    id_vars=['step'],\n",
    "    value_vars=['high_card', 'pair', 'two_pair', 'three_of_a_kind', 'straight', 'flush', 'full_house'],\n",
    "    var_name='hand_type',\n",
    "    value_name='count')\n",
    "sns.barplot(unpivoted, y=\"hand_type\", x=\"count\")\n",
    "plt.savefig(\"hand_types_bar.png\")"
   ]
  }
 ],
 "metadata": {
  "kernelspec": {
   "display_name": "Python 3 (ipykernel)",
   "language": "python",
   "name": "python3"
  },
  "language_info": {
   "codemirror_mode": {
    "name": "ipython",
    "version": 3
   },
   "file_extension": ".py",
   "mimetype": "text/x-python",
   "name": "python",
   "nbconvert_exporter": "python",
   "pygments_lexer": "ipython3",
   "version": "3.13.2"
  }
 },
 "nbformat": 4,
 "nbformat_minor": 5
}
