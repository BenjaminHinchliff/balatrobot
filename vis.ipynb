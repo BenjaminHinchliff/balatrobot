{
 "cells": [
  {
   "cell_type": "code",
   "execution_count": null,
   "id": "fa4461da-f9af-4f00-b816-c786fcaf4698",
   "metadata": {},
   "outputs": [],
   "source": [
    "import numpy as np\n",
    "import pandas as pd\n",
    "import matplotlib.pyplot as plt\n",
    "import seaborn as sns"
   ]
  },
  {
   "cell_type": "code",
   "execution_count": null,
   "id": "0475982e-b048-4333-b3a3-d0918ab45498",
   "metadata": {},
   "outputs": [],
   "source": [
    "metrics = pd.read_csv(\"train_metrics.csv\")\n",
    "metrics"
   ]
  },
  {
   "cell_type": "code",
   "execution_count": null,
   "id": "2b7a9175-db13-40cf-a3ee-0212adbcf2f3",
   "metadata": {},
   "outputs": [],
   "source": [
    "sns.histplot(metrics.final_round, discrete=True)"
   ]
  }
 ],
 "metadata": {
  "kernelspec": {
   "display_name": "Python 3 (ipykernel)",
   "language": "python",
   "name": "python3"
  },
  "language_info": {
   "codemirror_mode": {
    "name": "ipython",
    "version": 3
   },
   "file_extension": ".py",
   "mimetype": "text/x-python",
   "name": "python",
   "nbconvert_exporter": "python",
   "pygments_lexer": "ipython3",
   "version": "3.13.2"
  }
 },
 "nbformat": 4,
 "nbformat_minor": 5
}
